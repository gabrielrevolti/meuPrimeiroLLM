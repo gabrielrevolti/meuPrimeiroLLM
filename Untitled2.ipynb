{
  "nbformat": 4,
  "nbformat_minor": 0,
  "metadata": {
    "colab": {
      "provenance": [],
      "authorship_tag": "ABX9TyPeRpxFSM3hDBZSBWzseBbq",
      "include_colab_link": true
    },
    "kernelspec": {
      "name": "python3",
      "display_name": "Python 3"
    },
    "language_info": {
      "name": "python"
    }
  },
  "cells": [
    {
      "cell_type": "markdown",
      "metadata": {
        "id": "view-in-github",
        "colab_type": "text"
      },
      "source": [
        "<a href=\"https://colab.research.google.com/github/gabrielrevolti/meuPrimeiroLLM/blob/main/Untitled2.ipynb\" target=\"_parent\"><img src=\"https://colab.research.google.com/assets/colab-badge.svg\" alt=\"Open In Colab\"/></a>"
      ]
    },
    {
      "cell_type": "code",
      "execution_count": null,
      "metadata": {
        "colab": {
          "base_uri": "https://localhost:8080/"
        },
        "id": "mU6fZT-MkF6H",
        "outputId": "9cee3f91-4736-4948-9a98-aa157f8e65f5"
      },
      "outputs": [
        {
          "output_type": "stream",
          "name": "stdout",
          "text": [
            "\u001b[?25l     \u001b[90m━━━━━━━━━━━━━━━━━━━━━━━━━━━━━━━━━━━━━━━━\u001b[0m \u001b[32m0.0/150.7 kB\u001b[0m \u001b[31m?\u001b[0m eta \u001b[36m-:--:--\u001b[0m\r\u001b[2K     \u001b[91m━━━━━━━━━━━━━━━━━━━━━━━━━━━━━━━━━━━━━━\u001b[0m\u001b[90m╺\u001b[0m\u001b[90m━\u001b[0m \u001b[32m143.4/150.7 kB\u001b[0m \u001b[31m4.6 MB/s\u001b[0m eta \u001b[36m0:00:01\u001b[0m\r\u001b[2K     \u001b[91m━━━━━━━━━━━━━━━━━━━━━━━━━━━━━━━━━━━━━━\u001b[0m\u001b[90m╺\u001b[0m\u001b[90m━\u001b[0m \u001b[32m143.4/150.7 kB\u001b[0m \u001b[31m4.6 MB/s\u001b[0m eta \u001b[36m0:00:01\u001b[0m\r\u001b[2K     \u001b[90m━━━━━━━━━━━━━━━━━━━━━━━━━━━━━━━━━━━━━━━━\u001b[0m \u001b[32m150.7/150.7 kB\u001b[0m \u001b[31m1.6 MB/s\u001b[0m eta \u001b[36m0:00:00\u001b[0m\n",
            "\u001b[?25h\u001b[?25l     \u001b[90m━━━━━━━━━━━━━━━━━━━━━━━━━━━━━━━━━━━━━━━━\u001b[0m \u001b[32m0.0/677.8 kB\u001b[0m \u001b[31m?\u001b[0m eta \u001b[36m-:--:--\u001b[0m\r\u001b[2K     \u001b[90m━━━━━━━━━━━━━━━━━━━━━━━━━━━━━━━━━━━━━━━━\u001b[0m \u001b[32m677.8/677.8 kB\u001b[0m \u001b[31m23.4 MB/s\u001b[0m eta \u001b[36m0:00:00\u001b[0m\n",
            "\u001b[?25h"
          ]
        }
      ],
      "source": [
        "!pip install -q -U google-generativeai"
      ]
    },
    {
      "cell_type": "code",
      "source": [
        "# Import the Python SDK\n",
        "import google.generativeai as genai\n",
        "from google.colab import userdata\n",
        "\n",
        "key = userdata.get('SECRET_KEY')\n",
        "\n",
        "genai.configure(api_key=key)"
      ],
      "metadata": {
        "id": "ewPFKtApreoC"
      },
      "execution_count": null,
      "outputs": []
    },
    {
      "cell_type": "code",
      "source": [
        "for i in genai.list_models():\n",
        "  if 'generateContent' in i.supported_generation_methods:\n",
        "    print(i.name)"
      ],
      "metadata": {
        "colab": {
          "base_uri": "https://localhost:8080/",
          "height": 156
        },
        "id": "ay-Zo7Flrxxc",
        "outputId": "5b4d4251-229a-43b9-d36f-c978354ba9f6"
      },
      "execution_count": null,
      "outputs": [
        {
          "output_type": "stream",
          "name": "stdout",
          "text": [
            "models/gemini-1.0-pro\n",
            "models/gemini-1.0-pro-001\n",
            "models/gemini-1.0-pro-latest\n",
            "models/gemini-1.0-pro-vision-latest\n",
            "models/gemini-1.5-flash-latest\n",
            "models/gemini-1.5-pro-latest\n",
            "models/gemini-pro\n",
            "models/gemini-pro-vision\n"
          ]
        }
      ]
    },
    {
      "cell_type": "code",
      "source": [
        "generation_config = {\n",
        "    \"candidate_count\": 1,\n",
        "    \"temperature\": 0.5\n",
        "}"
      ],
      "metadata": {
        "id": "LwRZd3IMuToN"
      },
      "execution_count": null,
      "outputs": []
    },
    {
      "cell_type": "code",
      "source": [
        "safety_settings = {\n",
        "    \"HARASSMENT\": \"BLOCK_NONE\",\n",
        "    \"HATE\": \"BLOCK_NONE\",\n",
        "    \"SEXUAL\": \"BLOCK_NONE\",\n",
        "    \"DANGEROUS\": \"BLOCK_NONE\"\n",
        "}"
      ],
      "metadata": {
        "id": "HjkfpybCu4DZ"
      },
      "execution_count": null,
      "outputs": []
    },
    {
      "cell_type": "code",
      "source": [
        "#Inicializando o modelo\n",
        "model = genai.GenerativeModel(model_name=\"gemini-1.0-pro\", generation_config=generation_config,safety_settings=safety_settings)"
      ],
      "metadata": {
        "id": "b9WyDG1PvjCk"
      },
      "execution_count": null,
      "outputs": []
    },
    {
      "cell_type": "code",
      "source": [
        "response = model.generate_content(\"Me fale sobre golfinhos!\")\n",
        "print(response.text)"
      ],
      "metadata": {
        "colab": {
          "base_uri": "https://localhost:8080/",
          "height": 1000
        },
        "id": "xo-6Tac5w7K0",
        "outputId": "91d61bad-661a-4bee-e328-36dd6aec28a9"
      },
      "execution_count": null,
      "outputs": [
        {
          "output_type": "stream",
          "name": "stdout",
          "text": [
            "**Golfinhos**\n",
            "\n",
            "**Classificação:**\n",
            "\n",
            "* Reino: Animalia\n",
            "* Filo: Chordata\n",
            "* Classe: Mammalia\n",
            "* Ordem: Cetacea\n",
            "* Subordem: Odontoceti (golfinhos dentados)\n",
            "\n",
            "**Características Físicas:**\n",
            "\n",
            "* **Tamanho:** 1,5 a 4 metros de comprimento\n",
            "* **Peso:** 50 a 300 quilos\n",
            "* **Forma do corpo:** Fusiforme, aerodinâmico\n",
            "* **Nadadeira dorsal:** Varia em forma e tamanho dependendo da espécie\n",
            "* **Nadadeiras peitorais:** Amplas e em forma de remo\n",
            "* **Nadadeira caudal (cauda):** Horizontal, com dois lobos\n",
            "* **Rosto:** alongado, com um bico proeminente\n",
            "* **Dentes:** Numerosos e pontiagudos, usados para agarrar presas\n",
            "\n",
            "**Comportamento:**\n",
            "\n",
            "* **Sociais:** Golfinhos são animais altamente sociais que vivem em grupos chamados vagens.\n",
            "* **Inteligentes:** São considerados um dos animais mais inteligentes do planeta.\n",
            "* **Comunicativos:** Usam uma variedade de cliques, assobios e linguagem corporal para se comunicar.\n",
            "* **Caçadores habilidosos:** Caçam em grupos, usando ecolocalização para localizar presas.\n",
            "* **Brincalhões:** São conhecidos por seu comportamento brincalhão e acrobático.\n",
            "\n",
            "**Ecolocalização:**\n",
            "\n",
            "* Os golfinhos usam a ecolocalização para navegar e localizar presas.\n",
            "* Eles emitem cliques de alta frequência e ouvem os ecos que retornam para criar uma imagem mental de seu ambiente.\n",
            "\n",
            "**Espécies:**\n",
            "\n",
            "Existem cerca de 40 espécies diferentes de golfinhos, incluindo:\n",
            "\n",
            "* Golfinho-comum\n",
            "* Golfinho-nariz-de-garrafa\n",
            "* Golfinho-pintado\n",
            "* Golfinho-de-risso\n",
            "* Golfinho-de-dentes-rugosos\n",
            "\n",
            "**Habitat:**\n",
            "\n",
            "* Os golfinhos são encontrados em todos os oceanos do mundo.\n",
            "* Eles preferem águas costeiras quentes e temperadas.\n",
            "\n",
            "**Ameaças:**\n",
            "\n",
            "* **Poluição:** A poluição da água pode prejudicar a saúde dos golfinhos.\n",
            "* **Captura acidental:** Os golfinhos podem ficar presos em redes de pesca e outros equipamentos de pesca.\n",
            "* **Caça:** Em algumas partes do mundo, os golfinhos são caçados por sua carne ou óleo.\n",
            "* **Perda de habitat:** O desenvolvimento costeiro pode destruir os habitats dos golfinhos.\n",
            "\n",
            "**Conservação:**\n",
            "\n",
            "Os golfinhos são protegidos por leis em muitos países. Organizações de conservação estão trabalhando para proteger seus habitats e reduzir as ameaças que enfrentam.\n"
          ]
        }
      ]
    },
    {
      "cell_type": "code",
      "source": [
        "chat = model.start_chat(history=[])"
      ],
      "metadata": {
        "id": "BMve0N8YyDUr"
      },
      "execution_count": null,
      "outputs": []
    },
    {
      "cell_type": "code",
      "source": [
        "prompt = input(\"Esperando prompt: \")\n",
        "\n",
        "while prompt != \"fim\":\n",
        "  response = chat.send_message(prompt)\n",
        "  print(\"Resposta:\", response.text, \"\\n\")\n",
        "  prompt = input(\"Esperando prompt: \")"
      ],
      "metadata": {
        "colab": {
          "base_uri": "https://localhost:8080/",
          "height": 1000
        },
        "id": "OwXxmMPmyh9Z",
        "outputId": "cbf81858-51f5-47e9-fd16-9a7bd4246c3c"
      },
      "execution_count": null,
      "outputs": [
        {
          "name": "stdout",
          "output_type": "stream",
          "text": [
            "Esperando prompt: Ola, tudo bem?\n",
            "Resposta: Olá, estou bem, obrigado por perguntar. E você, como está? \n",
            "\n",
            "Esperando prompt: Estou bem! Queria saber como conseguir minha primeira vaga em desenvolvimento web\n",
            "Resposta: **Como Conseguir sua Primeira Vaga em Desenvolvimento Web**\n",
            "\n",
            "**1. Construa um Portfólio Sólido:**\n",
            "\n",
            "* Crie projetos pessoais que demonstrem suas habilidades em HTML, CSS, JavaScript e outros frameworks.\n",
            "* Contribua para projetos de código aberto para mostrar sua experiência prática.\n",
            "\n",
            "**2. Aprenda as Tecnologias Essenciais:**\n",
            "\n",
            "* **Front-end:** HTML, CSS, JavaScript, React, Angular\n",
            "* **Back-end:** Node.js, Python, Java, SQL\n",
            "* **Ferramentas:** Git, GitHub, editores de código\n",
            "\n",
            "**3. Obtenha Certificações:**\n",
            "\n",
            "* Obtenha certificações reconhecidas pela indústria, como as da Coursera, edX ou Udemy.\n",
            "* Elas podem validar suas habilidades e torná-lo mais competitivo.\n",
            "\n",
            "**4. Construa sua Rede:**\n",
            "\n",
            "* Participe de eventos da indústria, meetups e grupos online.\n",
            "* Conecte-se com recrutadores, gerentes de contratação e outros profissionais de desenvolvimento web.\n",
            "\n",
            "**5. Pratique a Resolução de Problemas:**\n",
            "\n",
            "* Resolva problemas de codificação em plataformas como LeetCode ou HackerRank.\n",
            "* Isso demonstra sua capacidade de pensar criticamente e resolver problemas.\n",
            "\n",
            "**6. Crie um Currículo e Carta de Apresentação Destacados:**\n",
            "\n",
            "* Destaque suas habilidades, experiência e projetos relevantes.\n",
            "* Personalize sua carta de apresentação para cada vaga que se candidatar.\n",
            "\n",
            "**7. Pratique Entrevistas:**\n",
            "\n",
            "* Prepare-se para perguntas técnicas e comportamentais.\n",
            "* Pratique seus projetos e demonstre sua paixão pelo desenvolvimento web.\n",
            "\n",
            "**8. Candidate-se a Vagas Juniores:**\n",
            "\n",
            "* Procure vagas de nível básico ou júnior que correspondam às suas habilidades.\n",
            "* Esteja disposto a aceitar cargos que ofereçam oportunidades de crescimento.\n",
            "\n",
            "**9. Seja Persistente:**\n",
            "\n",
            "* A procura de emprego pode ser demorada.\n",
            "* Não desanime e continue se candidatando a vagas e aprimorando suas habilidades.\n",
            "\n",
            "**10. Considere Estágios ou Trabalhos Voluntários:**\n",
            "\n",
            "* Os estágios e trabalhos voluntários podem fornecer experiência prática e ajudá-lo a construir sua rede.\n",
            "* Eles também podem levar a oportunidades de emprego em tempo integral. \n",
            "\n",
            "Esperando prompt: fim\n"
          ]
        }
      ]
    },
    {
      "cell_type": "code",
      "source": [
        "#Melhorando a visualização\n",
        "#Código disponível em https://ai.google.dev/tutorials/python_quickstart#import_packages\n",
        "import textwrap\n",
        "from IPython.display import display\n",
        "from IPython.display import Markdown\n",
        "\n",
        "def to_markdown(text):\n",
        "  text = text.replace('*', '  *')\n",
        "  return Markdown(textwrap.indent(text, '> ', predicate=lambda _: True))\n",
        "\n",
        "#Imprimindo o histórico\n",
        "for message in chat.history:\n",
        "  display(to_markdown(f'**{message.role}**: {message.parts[0].text}'))\n",
        "print('-----------------------------------------------')"
      ],
      "metadata": {
        "id": "SRcSq72ky_Vh",
        "colab": {
          "base_uri": "https://localhost:8080/",
          "height": 898
        },
        "outputId": "18834922-d854-4f0c-aa02-4fc5b04bb9b8"
      },
      "execution_count": null,
      "outputs": [
        {
          "output_type": "display_data",
          "data": {
            "text/plain": [
              "<IPython.core.display.Markdown object>"
            ],
            "text/markdown": ">   *  *user  *  *: Ola, tudo bem?"
          },
          "metadata": {}
        },
        {
          "output_type": "display_data",
          "data": {
            "text/plain": [
              "<IPython.core.display.Markdown object>"
            ],
            "text/markdown": ">   *  *model  *  *: Olá, estou bem, obrigado por perguntar. E você, como está?"
          },
          "metadata": {}
        },
        {
          "output_type": "display_data",
          "data": {
            "text/plain": [
              "<IPython.core.display.Markdown object>"
            ],
            "text/markdown": ">   *  *user  *  *: Estou bem! Queria saber como conseguir minha primeira vaga em desenvolvimento web"
          },
          "metadata": {}
        },
        {
          "output_type": "display_data",
          "data": {
            "text/plain": [
              "<IPython.core.display.Markdown object>"
            ],
            "text/markdown": ">   *  *model  *  *:   *  *Como Conseguir sua Primeira Vaga em Desenvolvimento Web  *  *\n> \n>   *  *1. Construa um Portfólio Sólido:  *  *\n> \n>   * Crie projetos pessoais que demonstrem suas habilidades em HTML, CSS, JavaScript e outros frameworks.\n>   * Contribua para projetos de código aberto para mostrar sua experiência prática.\n> \n>   *  *2. Aprenda as Tecnologias Essenciais:  *  *\n> \n>   *   *  *Front-end:  *  * HTML, CSS, JavaScript, React, Angular\n>   *   *  *Back-end:  *  * Node.js, Python, Java, SQL\n>   *   *  *Ferramentas:  *  * Git, GitHub, editores de código\n> \n>   *  *3. Obtenha Certificações:  *  *\n> \n>   * Obtenha certificações reconhecidas pela indústria, como as da Coursera, edX ou Udemy.\n>   * Elas podem validar suas habilidades e torná-lo mais competitivo.\n> \n>   *  *4. Construa sua Rede:  *  *\n> \n>   * Participe de eventos da indústria, meetups e grupos online.\n>   * Conecte-se com recrutadores, gerentes de contratação e outros profissionais de desenvolvimento web.\n> \n>   *  *5. Pratique a Resolução de Problemas:  *  *\n> \n>   * Resolva problemas de codificação em plataformas como LeetCode ou HackerRank.\n>   * Isso demonstra sua capacidade de pensar criticamente e resolver problemas.\n> \n>   *  *6. Crie um Currículo e Carta de Apresentação Destacados:  *  *\n> \n>   * Destaque suas habilidades, experiência e projetos relevantes.\n>   * Personalize sua carta de apresentação para cada vaga que se candidatar.\n> \n>   *  *7. Pratique Entrevistas:  *  *\n> \n>   * Prepare-se para perguntas técnicas e comportamentais.\n>   * Pratique seus projetos e demonstre sua paixão pelo desenvolvimento web.\n> \n>   *  *8. Candidate-se a Vagas Juniores:  *  *\n> \n>   * Procure vagas de nível básico ou júnior que correspondam às suas habilidades.\n>   * Esteja disposto a aceitar cargos que ofereçam oportunidades de crescimento.\n> \n>   *  *9. Seja Persistente:  *  *\n> \n>   * A procura de emprego pode ser demorada.\n>   * Não desanime e continue se candidatando a vagas e aprimorando suas habilidades.\n> \n>   *  *10. Considere Estágios ou Trabalhos Voluntários:  *  *\n> \n>   * Os estágios e trabalhos voluntários podem fornecer experiência prática e ajudá-lo a construir sua rede.\n>   * Eles também podem levar a oportunidades de emprego em tempo integral."
          },
          "metadata": {}
        },
        {
          "output_type": "stream",
          "name": "stdout",
          "text": [
            "-----------------------------------------------\n"
          ]
        }
      ]
    }
  ]
}